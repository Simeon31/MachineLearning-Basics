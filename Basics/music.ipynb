{
 "cells": [
  {
   "cell_type": "code",
   "execution_count": 64,
   "id": "7980b147-cadb-4da9-8c11-1a80a68ffd05",
   "metadata": {},
   "outputs": [],
   "source": [
    "import pandas as pd\n",
    "from sklearn.tree import DecisionTreeClassifier\n",
    "from sklearn.model_selection import train_test_split\n",
    "from sklearn.metrics import accuracy_score\n",
    "from sklearn import tree\n",
    "import joblib\n",
    "\n",
    "# music_data = pd.read_csv('music.csv')\n",
    "# music_data"
   ]
  },
  {
   "cell_type": "code",
   "execution_count": 65,
   "id": "290f0417-c8f2-4ceb-a6b4-9d0f5567713c",
   "metadata": {},
   "outputs": [],
   "source": [
    "# X = music_data.drop(columns=['genre'])\n",
    "# X"
   ]
  },
  {
   "cell_type": "code",
   "execution_count": 66,
   "id": "f08d622f-2a1e-4810-ab75-a8369bfe41ea",
   "metadata": {
    "scrolled": true
   },
   "outputs": [
    {
     "data": {
      "text/plain": [
       "0        HipHop\n",
       "1        HipHop\n",
       "2        HipHop\n",
       "3          Jazz\n",
       "4          Jazz\n",
       "5          Jazz\n",
       "6     Classical\n",
       "7     Classical\n",
       "8     Classical\n",
       "9         Dance\n",
       "10        Dance\n",
       "11        Dance\n",
       "12     Acoustic\n",
       "13     Acoustic\n",
       "14     Acoustic\n",
       "15    Classical\n",
       "16    Classical\n",
       "17    Classical\n",
       "Name: genre, dtype: object"
      ]
     },
     "execution_count": 66,
     "metadata": {},
     "output_type": "execute_result"
    }
   ],
   "source": [
    "y = music_data['genre']\n",
    "y"
   ]
  },
  {
   "cell_type": "code",
   "execution_count": 70,
   "id": "2b6a242d-9dd9-4454-85b5-f33db76ec17d",
   "metadata": {
    "scrolled": true
   },
   "outputs": [],
   "source": [
    "# X_train, X_test, y_train, y_test = train_test_split(X, y, test_size=0.2)\n",
    "# model = DecisionTreeClassifier()\n",
    "# model.fit(X_train, y_train)\n",
    "\n",
    "model = joblib.load(\"music-recommerder.joblib\")\n",
    "\n",
    "predictions = model.predict(X_test)\n",
    "predictions\n",
    "\n",
    "score = accuracy_score(y_test, predictions)\n",
    "score\n",
    "\n",
    "tree.export_graphviz(model, out_file='music-recommender.dot', \n",
    "                     feature_names=['age', 'gender'], class_names=sorted(y.unique()), \n",
    "                    label='all', rounded=True, filled=True)"
   ]
  },
  {
   "cell_type": "code",
   "execution_count": null,
   "id": "1119bdc1-1d5c-44ce-9188-6a97d766d54e",
   "metadata": {},
   "outputs": [],
   "source": []
  }
 ],
 "metadata": {
  "kernelspec": {
   "display_name": "Python [conda env:base] *",
   "language": "python",
   "name": "conda-base-py"
  },
  "language_info": {
   "codemirror_mode": {
    "name": "ipython",
    "version": 3
   },
   "file_extension": ".py",
   "mimetype": "text/x-python",
   "name": "python",
   "nbconvert_exporter": "python",
   "pygments_lexer": "ipython3",
   "version": "3.13.5"
  }
 },
 "nbformat": 4,
 "nbformat_minor": 5
}
